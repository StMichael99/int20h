{
 "cells": [
  {
   "cell_type": "code",
   "execution_count": null,
   "metadata": {
    "_cell_guid": "b1076dfc-b9ad-4769-8c92-a6c4dae69d19",
    "_uuid": "8f2839f25d086af736a60e9eeb907d3b93b6e0e5",
    "execution": {
     "iopub.execute_input": "2022-01-21T20:58:43.807747Z",
     "iopub.status.busy": "2022-01-21T20:58:43.807191Z",
     "iopub.status.idle": "2022-01-21T20:58:43.815469Z",
     "shell.execute_reply": "2022-01-21T20:58:43.814858Z",
     "shell.execute_reply.started": "2022-01-21T20:58:43.807712Z"
    }
   },
   "outputs": [],
   "source": [
    "# This Python 3 environment comes with many helpful analytics libraries installed\n",
    "# It is defined by the kaggle/python Docker image: https://github.com/kaggle/docker-python\n",
    "# For example, here's several helpful packages to load\n",
    "\n",
    "import numpy as np # linear algebra\n",
    "import pandas as pd # data processing, CSV file I/O (e.g. pd.read_csv)\n",
    "\n",
    "# Input data files are available in the read-only \"../input/\" directory\n",
    "# For example, running this (by clicking run or pressing Shift+Enter) will list all files under the input directory\n",
    "\n",
    "import os\n",
    "for dirname, _, filenames in os.walk('/kaggle/input'):\n",
    "    for filename in filenames:\n",
    "        print(os.path.join(dirname, filename))\n",
    "\n",
    "# You can write up to 20GB to the current directory (/kaggle/working/) that gets preserved as output when you create a version using \"Save & Run All\" \n",
    "# You can also write temporary files to /kaggle/temp/, but they won't be saved outside of the current session"
   ]
  },
  {
   "cell_type": "code",
   "execution_count": 2,
   "metadata": {
    "execution": {
     "iopub.execute_input": "2022-01-22T11:23:30.749677Z",
     "iopub.status.busy": "2022-01-22T11:23:30.749339Z",
     "iopub.status.idle": "2022-01-22T11:24:33.067855Z",
     "shell.execute_reply": "2022-01-22T11:24:33.066763Z",
     "shell.execute_reply.started": "2022-01-22T11:23:30.749642Z"
    }
   },
   "outputs": [],
   "source": [
    "import numpy as np\n",
    "import pandas as pd\n",
    "from tqdm.autonotebook import tqdm\n",
    "data = pd.read_csv('../input/techuklon-int20h/train.csv')\n",
    "\n",
    "data = data.groupby('Id').agg(lambda x: list(x))\n",
    "columns = data.columns\n",
    "for col in tqdm(data.columns):\n",
    "    data[col] = data[col].apply(lambda x: np.array(x))\n",
    "    data[col] = data[col].apply(lambda x: np.nan_to_num(x, np.nanmedian(x)) if not pd.isna(np.nanmedian(x)) else [np.nan]*4 )\n",
    "    if col != 'target':\n",
    "        for i in range(4):\n",
    "            data[f'{col}_{i}'] = data[col].apply(lambda x: x[i])\n",
    "        data = data.drop(columns = [col])\n",
    "    else:\n",
    "        data['target'] = data['target'].apply(lambda x: np.max(x))\n",
    "data.drop(columns=['Week_0',\"Week_1\",\"Week_2\",\"Week_3\"], inplace=True)"
   ]
  },
  {
   "cell_type": "code",
   "execution_count": null,
   "metadata": {},
   "outputs": [],
   "source": [
    "import numpy as np\n",
    "import pandas as pd\n",
    "from tqdm.autonotebook import tqdm\n",
    "test_data = pd.read_csv('../input/techuklon-int20h/test.csv')\n",
    "\n",
    "test_data = test_data.groupby('Id').agg(lambda x: list(x))\n",
    "columns = test_data.columns\n",
    "for col in tqdm(test_data.columns):\n",
    "    test_data[col] = test_data[col].apply(lambda x: np.array(x))\n",
    "    test_data[col] = test_data[col].apply(lambda x: np.nan_to_num(x, np.nanmedian(x)) if not pd.isna(np.nanmedian(x)) else [np.nan]*4 )\n",
    "    if col != 'target':\n",
    "        for i in range(4):\n",
    "            test_data[f'{col}_{i}'] = test_data[col].apply(lambda x: x[i])\n",
    "        test_data = test_data.drop(columns = [col])\n",
    "    #else:\n",
    "    #    #test_data['target'] = test_data['target'].apply(lambda x: np.max(x))\n",
    "test_data.drop(columns=['Week_0',\"Week_1\",\"Week_2\",\"Week_3\"], inplace=True)"
   ]
  },
  {
   "cell_type": "code",
   "execution_count": 3,
   "metadata": {
    "execution": {
     "iopub.execute_input": "2022-01-22T11:24:33.069938Z",
     "iopub.status.busy": "2022-01-22T11:24:33.069628Z",
     "iopub.status.idle": "2022-01-22T11:24:44.185104Z",
     "shell.execute_reply": "2022-01-22T11:24:44.184089Z",
     "shell.execute_reply.started": "2022-01-22T11:24:33.069895Z"
    }
   },
   "outputs": [],
   "source": [
    "!pip install pycaret"
   ]
  },
  {
   "cell_type": "code",
   "execution_count": 5,
   "metadata": {
    "execution": {
     "iopub.execute_input": "2022-01-22T11:29:58.773899Z",
     "iopub.status.busy": "2022-01-22T11:29:58.773564Z",
     "iopub.status.idle": "2022-01-22T11:30:03.626010Z",
     "shell.execute_reply": "2022-01-22T11:30:03.625120Z",
     "shell.execute_reply.started": "2022-01-22T11:29:58.773863Z"
    }
   },
   "outputs": [],
   "source": [
    "from pycaret.classification import *\n",
    "clf1 = setup(data, target = 'target', data_split_stratify = True) "
   ]
  },
  {
   "cell_type": "code",
   "execution_count": 6,
   "metadata": {
    "execution": {
     "iopub.execute_input": "2022-01-22T11:30:39.785507Z",
     "iopub.status.busy": "2022-01-22T11:30:39.784906Z",
     "iopub.status.idle": "2022-01-22T11:40:28.000783Z",
     "shell.execute_reply": "2022-01-22T11:40:27.999889Z",
     "shell.execute_reply.started": "2022-01-22T11:30:39.785470Z"
    }
   },
   "outputs": [],
   "source": [
    "top3 = compare_models(n_select = 3)"
   ]
  },
  {
   "cell_type": "code",
   "execution_count": 29,
   "metadata": {
    "execution": {
     "iopub.execute_input": "2022-01-22T12:20:41.650512Z",
     "iopub.status.busy": "2022-01-22T12:20:41.650001Z",
     "iopub.status.idle": "2022-01-22T12:37:09.881102Z",
     "shell.execute_reply": "2022-01-22T12:37:09.880405Z",
     "shell.execute_reply.started": "2022-01-22T12:20:41.650466Z"
    }
   },
   "outputs": [],
   "source": [
    "model = tune_model(top3[0], optimize = 'AUC')"
   ]
  },
  {
   "cell_type": "code",
   "execution_count": null,
   "metadata": {},
   "outputs": [],
   "source": [
    "#tuned_top3 = [tune_model(i, optimize = 'AUC') for i in top3]"
   ]
  },
  {
   "cell_type": "code",
   "execution_count": 30,
   "metadata": {
    "execution": {
     "iopub.execute_input": "2022-01-22T12:37:51.365013Z",
     "iopub.status.busy": "2022-01-22T12:37:51.364494Z",
     "iopub.status.idle": "2022-01-22T12:37:52.081971Z",
     "shell.execute_reply": "2022-01-22T12:37:52.080910Z",
     "shell.execute_reply.started": "2022-01-22T12:37:51.364968Z"
    }
   },
   "outputs": [],
   "source": [
    "res1 = predict_model(model, data = test_data, raw_score = True, round = 6).reset_index()[['Id','Score_1.0']].rename(columns = {'Score_1.0':'Predicted'})\n",
    "#res2 = predict_model(top3[1], data = test_data, raw_score = True, round = 6).reset_index()[['Id','Score_1.0']].rename(columns = {'Score_1.0':'Predicted'})\n",
    "#res3 = predict_model(top3[2], data = test_data, raw_score = True, round = 6).reset_index()[['Id','Score_1.0']].rename(columns = {'Score_1.0':'Predicted'})"
   ]
  },
  {
   "cell_type": "code",
   "execution_count": 32,
   "metadata": {
    "execution": {
     "iopub.execute_input": "2022-01-22T12:38:04.030395Z",
     "iopub.status.busy": "2022-01-22T12:38:04.029640Z",
     "iopub.status.idle": "2022-01-22T12:38:04.049202Z",
     "shell.execute_reply": "2022-01-22T12:38:04.048236Z",
     "shell.execute_reply.started": "2022-01-22T12:38:04.030329Z"
    }
   },
   "outputs": [],
   "source": [
    "#res1['Predicted'] = (res1['Predicted'] + res2['Predicted'] + res3['Predicted'])/3\n",
    "res1.to_csv('final.csv', index =False)"
   ]
  },
  {
   "cell_type": "code",
   "execution_count": null,
   "metadata": {},
   "outputs": [],
   "source": [
    "#blender = blend_models(estimator_list = top3) "
   ]
  }
 ],
 "metadata": {
  "kernelspec": {
   "display_name": "Python 3 (ipykernel)",
   "language": "python",
   "name": "python3"
  },
  "language_info": {
   "codemirror_mode": {
    "name": "ipython",
    "version": 3
   },
   "file_extension": ".py",
   "mimetype": "text/x-python",
   "name": "python",
   "nbconvert_exporter": "python",
   "pygments_lexer": "ipython3",
   "version": "3.9.7"
  }
 },
 "nbformat": 4,
 "nbformat_minor": 4
}
